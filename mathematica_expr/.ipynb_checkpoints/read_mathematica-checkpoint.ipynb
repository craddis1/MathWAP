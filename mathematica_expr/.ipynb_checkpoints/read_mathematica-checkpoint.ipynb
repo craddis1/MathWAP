{
 "cells": [
  {
   "cell_type": "code",
   "execution_count": 20,
   "id": "6c2829cd",
   "metadata": {},
   "outputs": [
    {
     "name": "stdout",
     "output_type": "stream",
     "text": [
      "1.13.1\n"
     ]
    }
   ],
   "source": [
    "#reuires sympy v.1.13\n",
    "import sympy\n",
    "print(sympy.__version__)"
   ]
  },
  {
   "cell_type": "code",
   "execution_count": 37,
   "id": "0b3f1d2a",
   "metadata": {
    "scrolled": true
   },
   "outputs": [
    {
     "name": "stdout",
     "output_type": "stream",
     "text": [
      "-7*1j*D1**2*f*(2*f*sigma*(2*t - 1)*(Pk*(4*sigma**6 + 48*sigma**4 + 370*sigma**2 + 2100) - Pkd*k1*(4*sigma**4 + 55*sigma**2 + 525)) + 2*sigma**3*(2*Pk*(2*sigma**4 + 16*sigma**2 + 75) - Pkd*k1*(sigma**2 + 75))*(b1*(t - 1) + t*xb1) - 3*np.sqrt(2)*np.sqrt(np.pi)*(f*(2*t - 1)*(2*Pk*(3*sigma**4 - 55*sigma**2 + 350) + Pkd*k1*(-3*sigma**4 + 40*sigma**2 - 175)) - sigma**2*(Pk*(6*sigma**2 - 50) + Pkd*k1*(sigma**4 - 8*sigma**2 + 25))*(b1*(t - 1) + t*xb1))*Erf(np.sqrt(2)*sigma/2)*np.exp(sigma**2/2))*np.exp(-sigma**2/2)/(2*d*k1*sigma**9)\n"
     ]
    }
   ],
   "source": [
    "import json\n",
    "from sympy.parsing.mathematica import parse_mathematica \n",
    "with open('PkFOGl3WA1.json') as f:#P23l0m0GR0PNG.json\n",
    "    data = json.load(f)\n",
    "tmpexp = str(parse_mathematica(data)).replace('I*','1j*').replace('-I*','-1j*').replace('sqrt(','np.sqrt(').replace('pi','np.pi').replace('exp','np.exp')\n",
    "print(tmpexp)"
   ]
  },
  {
   "cell_type": "code",
   "execution_count": 7,
   "id": "7834413d",
   "metadata": {},
   "outputs": [],
   "source": [
    "with open(\"tmp.txt\", \"w\") as file:\n",
    "    file.write(str(tmpexp))"
   ]
  }
 ],
 "metadata": {
  "kernelspec": {
   "display_name": "Python 3",
   "language": "python",
   "name": "python3"
  },
  "language_info": {
   "codemirror_mode": {
    "name": "ipython",
    "version": 3
   },
   "file_extension": ".py",
   "mimetype": "text/x-python",
   "name": "python",
   "nbconvert_exporter": "python",
   "pygments_lexer": "ipython3",
   "version": "3.8.8"
  }
 },
 "nbformat": 4,
 "nbformat_minor": 5
}
