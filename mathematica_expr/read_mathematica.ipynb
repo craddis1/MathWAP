{
 "cells": [
  {
   "cell_type": "code",
   "execution_count": 94,
   "id": "6c2829cd",
   "metadata": {},
   "outputs": [
    {
     "name": "stdout",
     "output_type": "stream",
     "text": [
      "1.13.1\n"
     ]
    }
   ],
   "source": [
    "#reuires sympy v.1.13\n",
    "import sympy\n",
    "print(sympy.__version__)"
   ]
  },
  {
   "cell_type": "code",
   "execution_count": 117,
   "id": "0b3f1d2a",
   "metadata": {
    "scrolled": false
   },
   "outputs": [
    {
     "name": "stdout",
     "output_type": "stream",
     "text": [
      "(14*D1**2*Pk*nbar*(D1**2*Pk*nbar*(6435*b1**4 + 13156*b1**3*f + 15210*b1**2*f**2 + 8820*b1*f**3 + 1995*f**4) + 12870*b1**2 + 13156*b1*f + 5070*f**2) + 90090)/(6435*Nk*nbar**2)\n"
     ]
    }
   ],
   "source": [
    "import json\n",
    "from sympy.parsing.mathematica import parse_mathematica \n",
    "with open('covl3l3.json') as f:\n",
    "    data = json.load(f)\n",
    "tmpexp = str(parse_mathematica(data)).replace('I*','1j*').replace('-I*','-1j*').replace('sqrt(','np.sqrt(').replace('pi','np.pi').replace('exp','np.exp')\n",
    "print(tmpexp)"
   ]
  },
  {
   "cell_type": "code",
   "execution_count": 87,
   "id": "7834413d",
   "metadata": {},
   "outputs": [],
   "source": [
    "with open(\"tmp.txt\", \"w\") as file:\n",
    "    file.write(str(tmpexp))"
   ]
  },
  {
   "cell_type": "code",
   "execution_count": null,
   "id": "11f60634",
   "metadata": {},
   "outputs": [],
   "source": []
  }
 ],
 "metadata": {
  "kernelspec": {
   "display_name": "Python 3",
   "language": "python",
   "name": "python3"
  },
  "language_info": {
   "codemirror_mode": {
    "name": "ipython",
    "version": 3
   },
   "file_extension": ".py",
   "mimetype": "text/x-python",
   "name": "python",
   "nbconvert_exporter": "python",
   "pygments_lexer": "ipython3",
   "version": "3.8.8"
  }
 },
 "nbformat": 4,
 "nbformat_minor": 5
}
